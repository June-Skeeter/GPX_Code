{
 "cells": [
  {
   "cell_type": "markdown",
   "id": "1aa9aac9",
   "metadata": {},
   "source": [
    "# Import Packages"
   ]
  },
  {
   "cell_type": "code",
   "execution_count": 2,
   "id": "cd4b608e",
   "metadata": {},
   "outputs": [],
   "source": [
    "import os\n",
    "import gpxpy\n",
    "import gpxpy.gpx\n",
    "import pandas as pd\n",
    "import geopandas as gpd\n",
    "from shapely.geometry import LineString\n",
    "import matplotlib.pyplot as plt\n",
    "from datetime import datetime"
   ]
  },
  {
   "cell_type": "markdown",
   "id": "691cbb39",
   "metadata": {},
   "source": [
    "# Convert and Calculate"
   ]
  },
  {
   "cell_type": "code",
   "execution_count": 5,
   "id": "d8b7cb55",
   "metadata": {},
   "outputs": [],
   "source": [
    "def GPX_to_GeoDataFrame(gpx_file,CRS='EPSG:4326'):\n",
    "    Point_Layer = {\n",
    "    'Lat':[],\n",
    "    'Lon':[],\n",
    "    'Z':[],\n",
    "    'Time':[],\n",
    "    'HR':[]\n",
    "    }\n",
    "    gpx_file = open(gpx_file,'r')\n",
    "    gpx = gpxpy.parse(gpx_file)\n",
    "    for track in gpx.tracks:\n",
    "        for segment in track.segments:\n",
    "            for point in segment.points:\n",
    "                Point_Layer['Lat'].append(point.latitude)\n",
    "                Point_Layer['Lon'].append(point.longitude)\n",
    "                Point_Layer['Z'].append(point.elevation)\n",
    "                Point_Layer['Time'].append(point.time)\n",
    "                for ext in point.extensions:\n",
    "                    for extchild in list(ext):\n",
    "                        if extchild.tag[-2:] == 'hr':\n",
    "                            Point_Layer['HR'].append(extchild.text)\n",
    "                            \n",
    "    df = pd.DataFrame(Point_Layer)\n",
    "\n",
    "    Points = gpd.GeoDataFrame(df,\n",
    "                           geometry=gpd.points_from_xy(df['Lon'],df['Lat']),\n",
    "                           crs='EPSG:4326'\n",
    "                           )\n",
    "    Points = Points.to_crs(CRS)\n",
    "    \n",
    "    Points['Time'] = pd.DatetimeIndex(Points['Time'])\n",
    "    Points['Seconds']=Points['Time'].diff().dt.seconds\n",
    "    Points['Delta_Z']=Points['Z'].diff()\n",
    "    Points2 = Points.shift()\n",
    "    Points['Key']=Points.index\n",
    "    Points2['Key']=Points2.index\n",
    "    Points_to_Lines=Points.append(Points2)\n",
    "    Points_to_Lines=Points_to_Lines.sort_values(by='Key')\n",
    "    Temp = Points_to_Lines[2:].groupby('Key').geometry.apply(lambda x: LineString(x.tolist()))\n",
    "    Lines = Points_to_Lines[2:].copy()\n",
    "    Lines.geometry=Temp\n",
    "    Lines['Distance']=Lines.length\n",
    "    Lines['Speed']=Lines['Distance']/Lines['Seconds']\n",
    "    Lines=Lines.drop(['Time','Lat','Lon'],axis=1)\n",
    "    return(Lines)"
   ]
  },
  {
   "cell_type": "markdown",
   "id": "f6f4b513",
   "metadata": {},
   "source": [
    "# Read and Save Files"
   ]
  },
  {
   "cell_type": "code",
   "execution_count": null,
   "id": "71c6c54f",
   "metadata": {},
   "outputs": [],
   "source": [
    "T1 = datetime.now()\n",
    "for path,dirs,files in os.walk('Inputs/'):\n",
    "    for f in files:\n",
    "        gpx_file = path+f\n",
    "        Lines=GPX_to_GeoDataFrame(gpx_file,CRS='EPSG:3005')\n",
    "        Lines.to_file('Outputs/'+f.split('.')[0]+'.shp')\n",
    "print(datetime.now()-T1)    \n",
    "Lines.plot(column='Speed')"
   ]
  },
  {
   "cell_type": "code",
   "execution_count": null,
   "id": "d7d6b55d",
   "metadata": {},
   "outputs": [],
   "source": []
  }
 ],
 "metadata": {
  "kernelspec": {
   "display_name": "Python 3 (ipykernel)",
   "language": "python",
   "name": "python3"
  },
  "language_info": {
   "codemirror_mode": {
    "name": "ipython",
    "version": 3
   },
   "file_extension": ".py",
   "mimetype": "text/x-python",
   "name": "python",
   "nbconvert_exporter": "python",
   "pygments_lexer": "ipython3",
   "version": "3.8.10"
  }
 },
 "nbformat": 4,
 "nbformat_minor": 5
}
