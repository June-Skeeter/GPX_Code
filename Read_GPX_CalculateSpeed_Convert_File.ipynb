{
 "cells": [
  {
   "cell_type": "markdown",
   "id": "1aa9aac9",
   "metadata": {},
   "source": [
    "# Import Packages\n",
    "\n",
    "### Copyright June Skeeter\n",
    "Attribution 4.0 International (CC BY 4.0) \n",
    "\n",
    "Source:\n",
    "https://github.com/June-Skeeter/GPX_Code"
   ]
  },
  {
   "cell_type": "code",
   "execution_count": 1,
   "id": "84898a29",
   "metadata": {
    "scrolled": false
   },
   "outputs": [
    {
     "name": "stdout",
     "output_type": "stream",
     "text": [
      "Requirement already satisfied: gpxpy in c:\\users\\user\\.conda\\envs\\geo-env\\lib\\site-packages (1.5.0)\n",
      "Requirement already satisfied: ipywidgets in c:\\users\\user\\.conda\\envs\\geo-env\\lib\\site-packages (7.6.3)\n",
      "Requirement already satisfied: ipython>=4.0.0 in c:\\users\\user\\.conda\\envs\\geo-env\\lib\\site-packages (from ipywidgets) (7.26.0)\n",
      "Requirement already satisfied: ipykernel>=4.5.1 in c:\\users\\user\\.conda\\envs\\geo-env\\lib\\site-packages (from ipywidgets) (6.0.3)\n",
      "Requirement already satisfied: jupyterlab-widgets>=1.0.0 in c:\\users\\user\\.conda\\envs\\geo-env\\lib\\site-packages (from ipywidgets) (1.0.0)\n",
      "Requirement already satisfied: nbformat>=4.2.0 in c:\\users\\user\\.conda\\envs\\geo-env\\lib\\site-packages (from ipywidgets) (5.1.3)\n",
      "Requirement already satisfied: widgetsnbextension~=3.5.0 in c:\\users\\user\\.conda\\envs\\geo-env\\lib\\site-packages (from ipywidgets) (3.5.1)\n",
      "Requirement already satisfied: traitlets>=4.3.1 in c:\\users\\user\\.conda\\envs\\geo-env\\lib\\site-packages (from ipywidgets) (5.0.5)\n",
      "Requirement already satisfied: matplotlib-inline<0.2.0,>=0.1.0 in c:\\users\\user\\.conda\\envs\\geo-env\\lib\\site-packages (from ipykernel>=4.5.1->ipywidgets) (0.1.2)\n",
      "Requirement already satisfied: tornado<7.0,>=4.2 in c:\\users\\user\\.conda\\envs\\geo-env\\lib\\site-packages (from ipykernel>=4.5.1->ipywidgets) (6.1)\n",
      "Requirement already satisfied: jupyter-client<7.0 in c:\\users\\user\\.conda\\envs\\geo-env\\lib\\site-packages (from ipykernel>=4.5.1->ipywidgets) (6.1.12)\n",
      "Requirement already satisfied: debugpy<2.0,>=1.0.0 in c:\\users\\user\\.conda\\envs\\geo-env\\lib\\site-packages (from ipykernel>=4.5.1->ipywidgets) (1.4.1)\n",
      "Requirement already satisfied: colorama in c:\\users\\user\\.conda\\envs\\geo-env\\lib\\site-packages (from ipython>=4.0.0->ipywidgets) (0.4.4)\n",
      "Requirement already satisfied: pickleshare in c:\\users\\user\\.conda\\envs\\geo-env\\lib\\site-packages (from ipython>=4.0.0->ipywidgets) (0.7.5)\n",
      "Requirement already satisfied: prompt-toolkit!=3.0.0,!=3.0.1,<3.1.0,>=2.0.0 in c:\\users\\user\\.conda\\envs\\geo-env\\lib\\site-packages (from ipython>=4.0.0->ipywidgets) (3.0.19)\n",
      "Requirement already satisfied: pygments in c:\\users\\user\\.conda\\envs\\geo-env\\lib\\site-packages (from ipython>=4.0.0->ipywidgets) (2.9.0)\n",
      "Requirement already satisfied: backcall in c:\\users\\user\\.conda\\envs\\geo-env\\lib\\site-packages (from ipython>=4.0.0->ipywidgets) (0.2.0)\n",
      "Requirement already satisfied: decorator in c:\\users\\user\\.conda\\envs\\geo-env\\lib\\site-packages (from ipython>=4.0.0->ipywidgets) (5.0.9)\n",
      "Requirement already satisfied: jedi>=0.16 in c:\\users\\user\\.conda\\envs\\geo-env\\lib\\site-packages (from ipython>=4.0.0->ipywidgets) (0.18.0)\n",
      "Requirement already satisfied: setuptools>=18.5 in c:\\users\\user\\.conda\\envs\\geo-env\\lib\\site-packages (from ipython>=4.0.0->ipywidgets) (57.4.0)\n",
      "Requirement already satisfied: parso<0.9.0,>=0.8.0 in c:\\users\\user\\.conda\\envs\\geo-env\\lib\\site-packages (from jedi>=0.16->ipython>=4.0.0->ipywidgets) (0.8.2)\n",
      "Requirement already satisfied: jupyter-core>=4.6.0 in c:\\users\\user\\.conda\\envs\\geo-env\\lib\\site-packages (from jupyter-client<7.0->ipykernel>=4.5.1->ipywidgets) (4.7.1)\n",
      "Requirement already satisfied: pyzmq>=13 in c:\\users\\user\\.conda\\envs\\geo-env\\lib\\site-packages (from jupyter-client<7.0->ipykernel>=4.5.1->ipywidgets) (22.2.1)\n",
      "Requirement already satisfied: python-dateutil>=2.1 in c:\\users\\user\\.conda\\envs\\geo-env\\lib\\site-packages (from jupyter-client<7.0->ipykernel>=4.5.1->ipywidgets) (2.8.2)\n",
      "Requirement already satisfied: pywin32>=1.0 in c:\\users\\user\\.conda\\envs\\geo-env\\lib\\site-packages (from jupyter-core>=4.6.0->jupyter-client<7.0->ipykernel>=4.5.1->ipywidgets) (301)\n",
      "Requirement already satisfied: ipython-genutils in c:\\users\\user\\.conda\\envs\\geo-env\\lib\\site-packages (from nbformat>=4.2.0->ipywidgets) (0.2.0)\n",
      "Requirement already satisfied: jsonschema!=2.5.0,>=2.4 in c:\\users\\user\\.conda\\envs\\geo-env\\lib\\site-packages (from nbformat>=4.2.0->ipywidgets) (3.2.0)\n",
      "Requirement already satisfied: pyrsistent>=0.14.0 in c:\\users\\user\\.conda\\envs\\geo-env\\lib\\site-packages (from jsonschema!=2.5.0,>=2.4->nbformat>=4.2.0->ipywidgets) (0.17.3)\n",
      "Requirement already satisfied: attrs>=17.4.0 in c:\\users\\user\\.conda\\envs\\geo-env\\lib\\site-packages (from jsonschema!=2.5.0,>=2.4->nbformat>=4.2.0->ipywidgets) (21.2.0)\n",
      "Requirement already satisfied: six>=1.11.0 in c:\\users\\user\\.conda\\envs\\geo-env\\lib\\site-packages (from jsonschema!=2.5.0,>=2.4->nbformat>=4.2.0->ipywidgets) (1.16.0)\n",
      "Requirement already satisfied: wcwidth in c:\\users\\user\\.conda\\envs\\geo-env\\lib\\site-packages (from prompt-toolkit!=3.0.0,!=3.0.1,<3.1.0,>=2.0.0->ipython>=4.0.0->ipywidgets) (0.2.5)\n",
      "Requirement already satisfied: notebook>=4.4.1 in c:\\users\\user\\.conda\\envs\\geo-env\\lib\\site-packages (from widgetsnbextension~=3.5.0->ipywidgets) (6.4.3)\n",
      "Requirement already satisfied: prometheus-client in c:\\users\\user\\.conda\\envs\\geo-env\\lib\\site-packages (from notebook>=4.4.1->widgetsnbextension~=3.5.0->ipywidgets) (0.11.0)\n",
      "Requirement already satisfied: argon2-cffi in c:\\users\\user\\.conda\\envs\\geo-env\\lib\\site-packages (from notebook>=4.4.1->widgetsnbextension~=3.5.0->ipywidgets) (20.1.0)\n",
      "Requirement already satisfied: jinja2 in c:\\users\\user\\.conda\\envs\\geo-env\\lib\\site-packages (from notebook>=4.4.1->widgetsnbextension~=3.5.0->ipywidgets) (3.0.1)\n",
      "Requirement already satisfied: nbconvert in c:\\users\\user\\.conda\\envs\\geo-env\\lib\\site-packages (from notebook>=4.4.1->widgetsnbextension~=3.5.0->ipywidgets) (6.1.0)\n",
      "Requirement already satisfied: Send2Trash>=1.5.0 in c:\\users\\user\\.conda\\envs\\geo-env\\lib\\site-packages (from notebook>=4.4.1->widgetsnbextension~=3.5.0->ipywidgets) (1.8.0)\n",
      "Requirement already satisfied: terminado>=0.8.3 in c:\\users\\user\\.conda\\envs\\geo-env\\lib\\site-packages (from notebook>=4.4.1->widgetsnbextension~=3.5.0->ipywidgets) (0.10.1)\n",
      "Requirement already satisfied: pywinpty>=1.1.0 in c:\\users\\user\\.conda\\envs\\geo-env\\lib\\site-packages (from terminado>=0.8.3->notebook>=4.4.1->widgetsnbextension~=3.5.0->ipywidgets) (1.1.3)\n",
      "Requirement already satisfied: cffi>=1.0.0 in c:\\users\\user\\.conda\\envs\\geo-env\\lib\\site-packages (from argon2-cffi->notebook>=4.4.1->widgetsnbextension~=3.5.0->ipywidgets) (1.14.6)\n",
      "Requirement already satisfied: pycparser in c:\\users\\user\\.conda\\envs\\geo-env\\lib\\site-packages (from cffi>=1.0.0->argon2-cffi->notebook>=4.4.1->widgetsnbextension~=3.5.0->ipywidgets) (2.20)\n",
      "Requirement already satisfied: MarkupSafe>=2.0 in c:\\users\\user\\.conda\\envs\\geo-env\\lib\\site-packages (from jinja2->notebook>=4.4.1->widgetsnbextension~=3.5.0->ipywidgets) (2.0.1)\n",
      "Requirement already satisfied: testpath in c:\\users\\user\\.conda\\envs\\geo-env\\lib\\site-packages (from nbconvert->notebook>=4.4.1->widgetsnbextension~=3.5.0->ipywidgets) (0.5.0)\n",
      "Requirement already satisfied: mistune<2,>=0.8.1 in c:\\users\\user\\.conda\\envs\\geo-env\\lib\\site-packages (from nbconvert->notebook>=4.4.1->widgetsnbextension~=3.5.0->ipywidgets) (0.8.4)\n",
      "Requirement already satisfied: pandocfilters>=1.4.1 in c:\\users\\user\\.conda\\envs\\geo-env\\lib\\site-packages (from nbconvert->notebook>=4.4.1->widgetsnbextension~=3.5.0->ipywidgets) (1.4.2)\n",
      "Requirement already satisfied: defusedxml in c:\\users\\user\\.conda\\envs\\geo-env\\lib\\site-packages (from nbconvert->notebook>=4.4.1->widgetsnbextension~=3.5.0->ipywidgets) (0.7.1)\n",
      "Requirement already satisfied: nbclient<0.6.0,>=0.5.0 in c:\\users\\user\\.conda\\envs\\geo-env\\lib\\site-packages (from nbconvert->notebook>=4.4.1->widgetsnbextension~=3.5.0->ipywidgets) (0.5.3)\n",
      "Requirement already satisfied: entrypoints>=0.2.2 in c:\\users\\user\\.conda\\envs\\geo-env\\lib\\site-packages (from nbconvert->notebook>=4.4.1->widgetsnbextension~=3.5.0->ipywidgets) (0.3)\n",
      "Requirement already satisfied: jupyterlab-pygments in c:\\users\\user\\.conda\\envs\\geo-env\\lib\\site-packages (from nbconvert->notebook>=4.4.1->widgetsnbextension~=3.5.0->ipywidgets) (0.1.2)\n",
      "Requirement already satisfied: bleach in c:\\users\\user\\.conda\\envs\\geo-env\\lib\\site-packages (from nbconvert->notebook>=4.4.1->widgetsnbextension~=3.5.0->ipywidgets) (4.0.0)\n",
      "Requirement already satisfied: nest-asyncio in c:\\users\\user\\.conda\\envs\\geo-env\\lib\\site-packages (from nbclient<0.6.0,>=0.5.0->nbconvert->notebook>=4.4.1->widgetsnbextension~=3.5.0->ipywidgets) (1.5.1)\n",
      "Requirement already satisfied: async-generator in c:\\users\\user\\.conda\\envs\\geo-env\\lib\\site-packages (from nbclient<0.6.0,>=0.5.0->nbconvert->notebook>=4.4.1->widgetsnbextension~=3.5.0->ipywidgets) (1.10)\n",
      "Requirement already satisfied: packaging in c:\\users\\user\\.conda\\envs\\geo-env\\lib\\site-packages (from bleach->nbconvert->notebook>=4.4.1->widgetsnbextension~=3.5.0->ipywidgets) (21.0)\n",
      "Requirement already satisfied: webencodings in c:\\users\\user\\.conda\\envs\\geo-env\\lib\\site-packages (from bleach->nbconvert->notebook>=4.4.1->widgetsnbextension~=3.5.0->ipywidgets) (0.5.1)\n",
      "Requirement already satisfied: pyparsing>=2.0.2 in c:\\users\\user\\.conda\\envs\\geo-env\\lib\\site-packages (from packaging->bleach->nbconvert->notebook>=4.4.1->widgetsnbextension~=3.5.0->ipywidgets) (2.4.7)\n"
     ]
    }
   ],
   "source": [
    "\n",
    "! pip install gpxpy\n",
    "! pip install ipywidgets\n",
    "\n",
    "import os\n",
    "import gpxpy\n",
    "import gpxpy.gpx\n",
    "from zipfile import ZipFile\n",
    "import pandas as pd\n",
    "import geopandas as gpd\n",
    "import numpy as np\n",
    "from shapely.geometry import LineString\n",
    "import matplotlib.pyplot as plt\n",
    "from datetime import datetime\n",
    "from ipywidgets import FloatProgress, HTML\n",
    "from IPython.display import display\n",
    "\n",
    "def GPX_to_GeoDataFrame(gpx_file,CRS='EPSG:4326',verbose='False'):\n",
    "    \n",
    "    T1 = datetime.now()\n",
    "    Point_Layer = {\n",
    "    'Name':[],\n",
    "    'Type':[],\n",
    "    'Lat':[],\n",
    "    'Lon':[],\n",
    "    'Z':[],\n",
    "    'Time':[],\n",
    "    'HR':[]\n",
    "    }\n",
    "    gpx_file = open(gpx_file,'r')\n",
    "    gpx = gpxpy.parse(gpx_file)\n",
    "    for track in gpx.tracks:\n",
    "        Name = track.name\n",
    "        Type = track.type\n",
    "        for segment in track.segments:\n",
    "            for point in segment.points:\n",
    "                Point_Layer['Lat'].append(point.latitude)\n",
    "                Point_Layer['Lon'].append(point.longitude)\n",
    "                Point_Layer['Z'].append(point.elevation)\n",
    "                Point_Layer['Time'].append(point.time)\n",
    "                Point_Layer['Name'].append(Name)\n",
    "                Point_Layer['Type'].append(Type)\n",
    "                hrx = 0\n",
    "                for ext in point.extensions:\n",
    "                    for extchild in list(ext):\n",
    "                        if extchild.tag[-2:] == 'hr':\n",
    "                            Point_Layer['HR'].append(extchild.text)\n",
    "                            hrx = 1\n",
    "                if hrx == 0:\n",
    "                    Point_Layer['HR'].append(np.nan)\n",
    "                    \n",
    "           \n",
    "    if verbose == 'True':\n",
    "        print()\n",
    "        for p in Point_Layer.keys():\n",
    "            print(p)\n",
    "            print(len(Point_Layer[p]))\n",
    "        \n",
    "    df = pd.DataFrame(Point_Layer)\n",
    "        \n",
    "    Points = gpd.GeoDataFrame(df,\n",
    "                           geometry=gpd.points_from_xy(df['Lon'],df['Lat']),\n",
    "                           crs='EPSG:4326'\n",
    "                           )\n",
    "    Points = Points.to_crs(CRS)\n",
    "    \n",
    "    Points['Time'] = pd.DatetimeIndex(Points['Time'])\n",
    "    Points['Seconds']=Points['Time'].diff().dt.seconds\n",
    "    Points['Delta_Z']=Points['Z'].diff()\n",
    "    Points2 = Points.shift()\n",
    "    Points['Key']=Points.index\n",
    "    Points2['Key']=Points2.index\n",
    "    Points_to_Lines=Points.append(Points2)\n",
    "    Points_to_Lines=Points_to_Lines.sort_values(by='Key')\n",
    "    Temp = Points_to_Lines[2:].groupby('Key').geometry.apply(lambda x: LineString(x.tolist()))\n",
    "    Lines = Points_to_Lines[2:].copy()\n",
    "    Lines.geometry=Temp\n",
    "    Lines['Distance']=Lines.length\n",
    "    Lines['Speed']=Lines['Distance']/Lines['Seconds']\n",
    "    Lines['Time'] = Lines['Time'].astype(str)\n",
    "    Lines['HR'] = Lines['HR'].astype(float)\n",
    "#     Lines=Lines.drop(['Lat','Lon'],axis=1)\n",
    "     \n",
    "    return(Lines)"
   ]
  },
  {
   "cell_type": "markdown",
   "id": "f6f4b513",
   "metadata": {},
   "source": [
    "# Read and Save Files"
   ]
  },
  {
   "cell_type": "code",
   "execution_count": 2,
   "id": "cd4b608e",
   "metadata": {},
   "outputs": [
    {
     "data": {
      "application/vnd.jupyter.widget-view+json": {
       "model_id": "839e66555ad94da78c0435756fa33d33",
       "version_major": 2,
       "version_minor": 0
      },
      "text/plain": [
       "HTML(value='', description='File: ', placeholder='File: ')"
      ]
     },
     "metadata": {},
     "output_type": "display_data"
    },
    {
     "data": {
      "application/vnd.jupyter.widget-view+json": {
       "model_id": "eeab914f7c534b16bf10bb19cfd87e43",
       "version_major": 2,
       "version_minor": 0
      },
      "text/plain": [
       "FloatProgress(value=0.0, description='Progress:')"
      ]
     },
     "metadata": {},
     "output_type": "display_data"
    },
    {
     "name": "stdout",
     "output_type": "stream",
     "text": [
      "Done Time Elapsed 0:00:18.091192\n",
      "Failures:  []\n"
     ]
    }
   ],
   "source": [
    "Batch_Name = 'Test_Batch'\n",
    "\n",
    "# Zip = []\n",
    "T1 = datetime.now()\n",
    "\n",
    "current = HTML(\n",
    "    value=\"\",    placeholder='File: ',    description='File: ',\n",
    ")\n",
    "display(current)\n",
    "\n",
    "\n",
    "\n",
    "i = 0\n",
    "prog = FloatProgress(min=0, max=100,description='Progress:')\n",
    "prog.value=0\n",
    "display(prog)\n",
    "\n",
    "Fail = []\n",
    "\n",
    "for path,dirs,files in os.walk('Inputs/'):\n",
    "    for f in files:\n",
    "        try:\n",
    "            current.value=' '+ f\n",
    "            gpx_file = path+f\n",
    "            DataFrame=GPX_to_GeoDataFrame(gpx_file,CRS='EPSG:3005')\n",
    "            DataFrame.to_file('Outputs/'+f.split('.')[0]+'.shp')\n",
    "            DataFrame.drop('geometry',axis=1).to_csv('Outputs/'+f.split('.')[0]+'.csv')\n",
    "            i += 1\n",
    "            prog.value=i/len(files)*100\n",
    "        except:\n",
    "            Fail.append(f)\n",
    "            pass\n",
    "\n",
    "zipObj = ZipFile(Batch_Name + '.zip', 'w')\n",
    "\n",
    "\n",
    "for path,dirs,files in os.walk('Outputs/'):\n",
    "    for f in files:\n",
    "        if f != 'Keep.txt':\n",
    "            current.value=f\n",
    "            zipObj.write(path+f)\n",
    "            os.remove(path+f)\n",
    "zipObj.close()\n",
    "\n",
    "print('Done Time Elapsed',datetime.now()-T1)\n",
    "print('Failures: ',Fail)"
   ]
  },
  {
   "cell_type": "code",
   "execution_count": null,
   "id": "a257e9f4",
   "metadata": {},
   "outputs": [],
   "source": []
  }
 ],
 "metadata": {
  "kernelspec": {
   "display_name": "Python 3 (ipykernel)",
   "language": "python",
   "name": "python3"
  },
  "language_info": {
   "codemirror_mode": {
    "name": "ipython",
    "version": 3
   },
   "file_extension": ".py",
   "mimetype": "text/x-python",
   "name": "python",
   "nbconvert_exporter": "python",
   "pygments_lexer": "ipython3",
   "version": "3.8.10"
  }
 },
 "nbformat": 4,
 "nbformat_minor": 5
}
